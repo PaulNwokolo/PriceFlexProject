{
 "cells": [
  {
   "cell_type": "markdown",
   "id": "b2e16f55-a963-413c-be4c-397917b0d7e6",
   "metadata": {},
   "source": [
    "## Training the model for demand and Recomendation for the price"
   ]
  },
  {
   "cell_type": "code",
   "execution_count": 1,
   "id": "015cd440-f46c-49b6-923a-7774703ac166",
   "metadata": {},
   "outputs": [],
   "source": [
    "# Importing of libs \n",
    "import numpy as np\n",
    "import pandas as pd\n",
    "from sklearn.linear_model import LinearRegression, Ridge\n",
    "from sklearn.model_selection import train_test_split\n",
    "from sklearn.metrics import classification_report, root_mean_squared_error\n",
    "import joblib \n",
    "import pickle"
   ]
  },
  {
   "cell_type": "code",
   "execution_count": 2,
   "id": "442da76f-92f2-45b8-8736-98d00cf06445",
   "metadata": {},
   "outputs": [],
   "source": [
    "# load data \n",
    "X = np.load(r\"C:\\Users\\PAUL\\Desktop\\PriceFlex\\data\\preprocessed\\X_preprocessed.npy\")\n",
    "y = np.load(r\"C:\\Users\\PAUL\\Desktop\\PriceFlex\\data\\preprocessed\\y.npy\")"
   ]
  },
  {
   "cell_type": "code",
   "execution_count": 3,
   "id": "c5723c63-7f8a-4037-bd61-e8e4e421cc5f",
   "metadata": {},
   "outputs": [],
   "source": [
    "# Spliting the data \n",
    "X_train,X_test, y_train, y_test = train_test_split(X,y, test_size=.3, random_state=42)\n"
   ]
  },
  {
   "cell_type": "code",
   "execution_count": 4,
   "id": "cf8d4842-6ae2-493a-bbd8-8f4938902341",
   "metadata": {},
   "outputs": [
    {
     "name": "stdout",
     "output_type": "stream",
     "text": [
      "Demand Model RMSE: 16.95131052443309\n"
     ]
    }
   ],
   "source": [
    "# Training demand model \n",
    "demand_model = LinearRegression()\n",
    "demand_model.fit(X_train,y_train)\n",
    "y_pred_demand = demand_model.predict(X_test)\n",
    "print(\"Demand Model RMSE:\", root_mean_squared_error(y_test,y_pred_demand))"
   ]
  },
  {
   "cell_type": "code",
   "execution_count": 5,
   "id": "b9e8bbdf-c707-45f4-946b-1df02868d8b9",
   "metadata": {},
   "outputs": [
    {
     "name": "stdout",
     "output_type": "stream",
     "text": [
      "Pricing Model RMSE: 16.95127310926019\n"
     ]
    }
   ],
   "source": [
    "# Training pricing model\n",
    "pricing_model = Ridge(alpha=1.0)\n",
    "pricing_model.fit(X_train,y_train)\n",
    "y_pred_price = pricing_model.predict(X_test)\n",
    "print(\"Pricing Model RMSE:\", root_mean_squared_error(y_test,y_pred_price))"
   ]
  },
  {
   "cell_type": "code",
   "execution_count": 7,
   "id": "362ff7f7-0231-4c99-ad07-52454fa95788",
   "metadata": {},
   "outputs": [
    {
     "ename": "FileNotFoundError",
     "evalue": "[Errno 2] No such file or directory: '..data/model/pricing_model.pkl'",
     "output_type": "error",
     "traceback": [
      "\u001b[1;31m---------------------------------------------------------------------------\u001b[0m",
      "\u001b[1;31mFileNotFoundError\u001b[0m                         Traceback (most recent call last)",
      "Cell \u001b[1;32mIn[7], line 2\u001b[0m\n\u001b[0;32m      1\u001b[0m joblib\u001b[38;5;241m.\u001b[39mdump(demand_model, \u001b[38;5;124m'\u001b[39m\u001b[38;5;124m../data/model/demand_model.pkl\u001b[39m\u001b[38;5;124m'\u001b[39m)\n\u001b[1;32m----> 2\u001b[0m \u001b[43mjoblib\u001b[49m\u001b[38;5;241;43m.\u001b[39;49m\u001b[43mdump\u001b[49m\u001b[43m(\u001b[49m\u001b[43mpricing_model\u001b[49m\u001b[43m,\u001b[49m\u001b[43m \u001b[49m\u001b[38;5;124;43m'\u001b[39;49m\u001b[38;5;124;43m..data/model/pricing_model.pkl\u001b[39;49m\u001b[38;5;124;43m'\u001b[39;49m\u001b[43m)\u001b[49m\n",
      "File \u001b[1;32m~\\AppData\\Local\\Programs\\Python\\Python312\\Lib\\site-packages\\joblib\\numpy_pickle.py:552\u001b[0m, in \u001b[0;36mdump\u001b[1;34m(value, filename, compress, protocol, cache_size)\u001b[0m\n\u001b[0;32m    550\u001b[0m         NumpyPickler(f, protocol\u001b[38;5;241m=\u001b[39mprotocol)\u001b[38;5;241m.\u001b[39mdump(value)\n\u001b[0;32m    551\u001b[0m \u001b[38;5;28;01melif\u001b[39;00m is_filename:\n\u001b[1;32m--> 552\u001b[0m     \u001b[38;5;28;01mwith\u001b[39;00m \u001b[38;5;28;43mopen\u001b[39;49m\u001b[43m(\u001b[49m\u001b[43mfilename\u001b[49m\u001b[43m,\u001b[49m\u001b[43m \u001b[49m\u001b[38;5;124;43m'\u001b[39;49m\u001b[38;5;124;43mwb\u001b[39;49m\u001b[38;5;124;43m'\u001b[39;49m\u001b[43m)\u001b[49m \u001b[38;5;28;01mas\u001b[39;00m f:\n\u001b[0;32m    553\u001b[0m         NumpyPickler(f, protocol\u001b[38;5;241m=\u001b[39mprotocol)\u001b[38;5;241m.\u001b[39mdump(value)\n\u001b[0;32m    554\u001b[0m \u001b[38;5;28;01melse\u001b[39;00m:\n",
      "\u001b[1;31mFileNotFoundError\u001b[0m: [Errno 2] No such file or directory: '..data/model/pricing_model.pkl'"
     ]
    }
   ],
   "source": [
    "joblib.dump(demand_model, '../data/model/demand_model.pkl')\n",
    "joblib.dump(pricing_model, '..data/model/pricing_model.pkl')"
   ]
  },
  {
   "cell_type": "code",
   "execution_count": null,
   "id": "71c29cd2-5afd-4fb2-9326-82629114c635",
   "metadata": {},
   "outputs": [],
   "source": []
  },
  {
   "cell_type": "code",
   "execution_count": null,
   "id": "8f2a3e94-3cd8-4758-80e7-0e53e0476a57",
   "metadata": {},
   "outputs": [],
   "source": []
  },
  {
   "cell_type": "code",
   "execution_count": null,
   "id": "5a1dcac8-60ae-44a1-9008-d4567e8f57d0",
   "metadata": {},
   "outputs": [],
   "source": [
    " \n"
   ]
  },
  {
   "cell_type": "code",
   "execution_count": null,
   "id": "c3a6f3a2-4d56-4560-b244-48937b0a0e48",
   "metadata": {},
   "outputs": [],
   "source": []
  },
  {
   "cell_type": "code",
   "execution_count": null,
   "id": "739972bf-5651-47b6-8073-e2fbaba8e200",
   "metadata": {},
   "outputs": [],
   "source": []
  },
  {
   "cell_type": "code",
   "execution_count": null,
   "id": "57d71e0b-1ccf-42e2-844c-d6f9025ad0e4",
   "metadata": {},
   "outputs": [],
   "source": []
  },
  {
   "cell_type": "code",
   "execution_count": null,
   "id": "21206ffb-f4d0-4c32-ad82-088af822b88e",
   "metadata": {},
   "outputs": [],
   "source": []
  },
  {
   "cell_type": "code",
   "execution_count": null,
   "id": "c62a1963-3c1f-440a-b19c-af5b95df89f1",
   "metadata": {},
   "outputs": [],
   "source": []
  },
  {
   "cell_type": "code",
   "execution_count": null,
   "id": "23952d25-5cb1-4a6d-abc9-6a088fbb71ef",
   "metadata": {},
   "outputs": [],
   "source": []
  }
 ],
 "metadata": {
  "kernelspec": {
   "display_name": "Python 3 (ipykernel)",
   "language": "python",
   "name": "python3"
  },
  "language_info": {
   "codemirror_mode": {
    "name": "ipython",
    "version": 3
   },
   "file_extension": ".py",
   "mimetype": "text/x-python",
   "name": "python",
   "nbconvert_exporter": "python",
   "pygments_lexer": "ipython3",
   "version": "3.12.0"
  }
 },
 "nbformat": 4,
 "nbformat_minor": 5
}
